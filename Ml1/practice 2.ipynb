{
 "cells": [
  {
   "cell_type": "code",
   "execution_count": 40,
   "id": "70b79b6f",
   "metadata": {},
   "outputs": [],
   "source": [
    "import pandas as pd\n",
    "import numpy as np"
   ]
  },
  {
   "cell_type": "code",
   "execution_count": 41,
   "id": "5ed04d56",
   "metadata": {},
   "outputs": [],
   "source": [
    "data=pd.read_csv(\"./data/Student_Marks.csv\")"
   ]
  },
  {
   "cell_type": "code",
   "execution_count": 42,
   "id": "82451d71",
   "metadata": {},
   "outputs": [
    {
     "data": {
      "text/html": [
       "<div>\n",
       "<style scoped>\n",
       "    .dataframe tbody tr th:only-of-type {\n",
       "        vertical-align: middle;\n",
       "    }\n",
       "\n",
       "    .dataframe tbody tr th {\n",
       "        vertical-align: top;\n",
       "    }\n",
       "\n",
       "    .dataframe thead th {\n",
       "        text-align: right;\n",
       "    }\n",
       "</style>\n",
       "<table border=\"1\" class=\"dataframe\">\n",
       "  <thead>\n",
       "    <tr style=\"text-align: right;\">\n",
       "      <th></th>\n",
       "      <th>number_courses</th>\n",
       "      <th>time_study</th>\n",
       "      <th>Marks</th>\n",
       "    </tr>\n",
       "  </thead>\n",
       "  <tbody>\n",
       "    <tr>\n",
       "      <th>0</th>\n",
       "      <td>3</td>\n",
       "      <td>4.508</td>\n",
       "      <td>19.202</td>\n",
       "    </tr>\n",
       "    <tr>\n",
       "      <th>1</th>\n",
       "      <td>4</td>\n",
       "      <td>0.096</td>\n",
       "      <td>7.734</td>\n",
       "    </tr>\n",
       "    <tr>\n",
       "      <th>2</th>\n",
       "      <td>4</td>\n",
       "      <td>3.133</td>\n",
       "      <td>13.811</td>\n",
       "    </tr>\n",
       "    <tr>\n",
       "      <th>3</th>\n",
       "      <td>6</td>\n",
       "      <td>7.909</td>\n",
       "      <td>53.018</td>\n",
       "    </tr>\n",
       "    <tr>\n",
       "      <th>4</th>\n",
       "      <td>8</td>\n",
       "      <td>7.811</td>\n",
       "      <td>55.299</td>\n",
       "    </tr>\n",
       "    <tr>\n",
       "      <th>...</th>\n",
       "      <td>...</td>\n",
       "      <td>...</td>\n",
       "      <td>...</td>\n",
       "    </tr>\n",
       "    <tr>\n",
       "      <th>95</th>\n",
       "      <td>6</td>\n",
       "      <td>3.561</td>\n",
       "      <td>19.128</td>\n",
       "    </tr>\n",
       "    <tr>\n",
       "      <th>96</th>\n",
       "      <td>3</td>\n",
       "      <td>0.301</td>\n",
       "      <td>5.609</td>\n",
       "    </tr>\n",
       "    <tr>\n",
       "      <th>97</th>\n",
       "      <td>4</td>\n",
       "      <td>7.163</td>\n",
       "      <td>41.444</td>\n",
       "    </tr>\n",
       "    <tr>\n",
       "      <th>98</th>\n",
       "      <td>7</td>\n",
       "      <td>0.309</td>\n",
       "      <td>12.027</td>\n",
       "    </tr>\n",
       "    <tr>\n",
       "      <th>99</th>\n",
       "      <td>3</td>\n",
       "      <td>6.335</td>\n",
       "      <td>32.357</td>\n",
       "    </tr>\n",
       "  </tbody>\n",
       "</table>\n",
       "<p>100 rows × 3 columns</p>\n",
       "</div>"
      ],
      "text/plain": [
       "    number_courses  time_study   Marks\n",
       "0                3       4.508  19.202\n",
       "1                4       0.096   7.734\n",
       "2                4       3.133  13.811\n",
       "3                6       7.909  53.018\n",
       "4                8       7.811  55.299\n",
       "..             ...         ...     ...\n",
       "95               6       3.561  19.128\n",
       "96               3       0.301   5.609\n",
       "97               4       7.163  41.444\n",
       "98               7       0.309  12.027\n",
       "99               3       6.335  32.357\n",
       "\n",
       "[100 rows x 3 columns]"
      ]
     },
     "execution_count": 42,
     "metadata": {},
     "output_type": "execute_result"
    }
   ],
   "source": [
    "data"
   ]
  },
  {
   "cell_type": "code",
   "execution_count": 43,
   "id": "c31ef6e6",
   "metadata": {},
   "outputs": [],
   "source": [
    "x = data.drop(labels=[\"Marks\"],axis=1)"
   ]
  },
  {
   "cell_type": "code",
   "execution_count": 44,
   "id": "ea937938",
   "metadata": {},
   "outputs": [
    {
     "data": {
      "text/html": [
       "<div>\n",
       "<style scoped>\n",
       "    .dataframe tbody tr th:only-of-type {\n",
       "        vertical-align: middle;\n",
       "    }\n",
       "\n",
       "    .dataframe tbody tr th {\n",
       "        vertical-align: top;\n",
       "    }\n",
       "\n",
       "    .dataframe thead th {\n",
       "        text-align: right;\n",
       "    }\n",
       "</style>\n",
       "<table border=\"1\" class=\"dataframe\">\n",
       "  <thead>\n",
       "    <tr style=\"text-align: right;\">\n",
       "      <th></th>\n",
       "      <th>number_courses</th>\n",
       "      <th>time_study</th>\n",
       "    </tr>\n",
       "  </thead>\n",
       "  <tbody>\n",
       "    <tr>\n",
       "      <th>0</th>\n",
       "      <td>3</td>\n",
       "      <td>4.508</td>\n",
       "    </tr>\n",
       "    <tr>\n",
       "      <th>1</th>\n",
       "      <td>4</td>\n",
       "      <td>0.096</td>\n",
       "    </tr>\n",
       "    <tr>\n",
       "      <th>2</th>\n",
       "      <td>4</td>\n",
       "      <td>3.133</td>\n",
       "    </tr>\n",
       "    <tr>\n",
       "      <th>3</th>\n",
       "      <td>6</td>\n",
       "      <td>7.909</td>\n",
       "    </tr>\n",
       "    <tr>\n",
       "      <th>4</th>\n",
       "      <td>8</td>\n",
       "      <td>7.811</td>\n",
       "    </tr>\n",
       "    <tr>\n",
       "      <th>...</th>\n",
       "      <td>...</td>\n",
       "      <td>...</td>\n",
       "    </tr>\n",
       "    <tr>\n",
       "      <th>95</th>\n",
       "      <td>6</td>\n",
       "      <td>3.561</td>\n",
       "    </tr>\n",
       "    <tr>\n",
       "      <th>96</th>\n",
       "      <td>3</td>\n",
       "      <td>0.301</td>\n",
       "    </tr>\n",
       "    <tr>\n",
       "      <th>97</th>\n",
       "      <td>4</td>\n",
       "      <td>7.163</td>\n",
       "    </tr>\n",
       "    <tr>\n",
       "      <th>98</th>\n",
       "      <td>7</td>\n",
       "      <td>0.309</td>\n",
       "    </tr>\n",
       "    <tr>\n",
       "      <th>99</th>\n",
       "      <td>3</td>\n",
       "      <td>6.335</td>\n",
       "    </tr>\n",
       "  </tbody>\n",
       "</table>\n",
       "<p>100 rows × 2 columns</p>\n",
       "</div>"
      ],
      "text/plain": [
       "    number_courses  time_study\n",
       "0                3       4.508\n",
       "1                4       0.096\n",
       "2                4       3.133\n",
       "3                6       7.909\n",
       "4                8       7.811\n",
       "..             ...         ...\n",
       "95               6       3.561\n",
       "96               3       0.301\n",
       "97               4       7.163\n",
       "98               7       0.309\n",
       "99               3       6.335\n",
       "\n",
       "[100 rows x 2 columns]"
      ]
     },
     "execution_count": 44,
     "metadata": {},
     "output_type": "execute_result"
    }
   ],
   "source": [
    "x"
   ]
  },
  {
   "cell_type": "code",
   "execution_count": 45,
   "id": "179f16f4",
   "metadata": {},
   "outputs": [],
   "source": [
    "y = data[[\"Marks\"]]"
   ]
  },
  {
   "cell_type": "code",
   "execution_count": 46,
   "id": "8b747c39",
   "metadata": {},
   "outputs": [
    {
     "data": {
      "text/html": [
       "<div>\n",
       "<style scoped>\n",
       "    .dataframe tbody tr th:only-of-type {\n",
       "        vertical-align: middle;\n",
       "    }\n",
       "\n",
       "    .dataframe tbody tr th {\n",
       "        vertical-align: top;\n",
       "    }\n",
       "\n",
       "    .dataframe thead th {\n",
       "        text-align: right;\n",
       "    }\n",
       "</style>\n",
       "<table border=\"1\" class=\"dataframe\">\n",
       "  <thead>\n",
       "    <tr style=\"text-align: right;\">\n",
       "      <th></th>\n",
       "      <th>Marks</th>\n",
       "    </tr>\n",
       "  </thead>\n",
       "  <tbody>\n",
       "    <tr>\n",
       "      <th>0</th>\n",
       "      <td>19.202</td>\n",
       "    </tr>\n",
       "    <tr>\n",
       "      <th>1</th>\n",
       "      <td>7.734</td>\n",
       "    </tr>\n",
       "    <tr>\n",
       "      <th>2</th>\n",
       "      <td>13.811</td>\n",
       "    </tr>\n",
       "    <tr>\n",
       "      <th>3</th>\n",
       "      <td>53.018</td>\n",
       "    </tr>\n",
       "    <tr>\n",
       "      <th>4</th>\n",
       "      <td>55.299</td>\n",
       "    </tr>\n",
       "    <tr>\n",
       "      <th>...</th>\n",
       "      <td>...</td>\n",
       "    </tr>\n",
       "    <tr>\n",
       "      <th>95</th>\n",
       "      <td>19.128</td>\n",
       "    </tr>\n",
       "    <tr>\n",
       "      <th>96</th>\n",
       "      <td>5.609</td>\n",
       "    </tr>\n",
       "    <tr>\n",
       "      <th>97</th>\n",
       "      <td>41.444</td>\n",
       "    </tr>\n",
       "    <tr>\n",
       "      <th>98</th>\n",
       "      <td>12.027</td>\n",
       "    </tr>\n",
       "    <tr>\n",
       "      <th>99</th>\n",
       "      <td>32.357</td>\n",
       "    </tr>\n",
       "  </tbody>\n",
       "</table>\n",
       "<p>100 rows × 1 columns</p>\n",
       "</div>"
      ],
      "text/plain": [
       "     Marks\n",
       "0   19.202\n",
       "1    7.734\n",
       "2   13.811\n",
       "3   53.018\n",
       "4   55.299\n",
       "..     ...\n",
       "95  19.128\n",
       "96   5.609\n",
       "97  41.444\n",
       "98  12.027\n",
       "99  32.357\n",
       "\n",
       "[100 rows x 1 columns]"
      ]
     },
     "execution_count": 46,
     "metadata": {},
     "output_type": "execute_result"
    }
   ],
   "source": [
    "y"
   ]
  },
  {
   "cell_type": "code",
   "execution_count": 47,
   "id": "0128f162",
   "metadata": {},
   "outputs": [],
   "source": [
    "categorical_column = x.select_dtypes(include=\"object\").columns"
   ]
  },
  {
   "cell_type": "code",
   "execution_count": 48,
   "id": "81085d47",
   "metadata": {},
   "outputs": [
    {
     "data": {
      "text/plain": [
       "Index([], dtype='object')"
      ]
     },
     "execution_count": 48,
     "metadata": {},
     "output_type": "execute_result"
    }
   ],
   "source": [
    "categorical_column"
   ]
  },
  {
   "cell_type": "code",
   "execution_count": 49,
   "id": "b2e0d86a",
   "metadata": {},
   "outputs": [],
   "source": [
    "numerical_columns = x.select_dtypes(exclude=\"object\").columns"
   ]
  },
  {
   "cell_type": "code",
   "execution_count": 50,
   "id": "b68332da",
   "metadata": {},
   "outputs": [
    {
     "data": {
      "text/plain": [
       "Index(['number_courses', 'time_study'], dtype='object')"
      ]
     },
     "execution_count": 50,
     "metadata": {},
     "output_type": "execute_result"
    }
   ],
   "source": [
    "numerical_columns"
   ]
  },
  {
   "cell_type": "code",
   "execution_count": 51,
   "id": "7be65c49",
   "metadata": {},
   "outputs": [
    {
     "data": {
      "text/plain": [
       "array([3, 4, 6, 8, 5, 7], dtype=int64)"
      ]
     },
     "execution_count": 51,
     "metadata": {},
     "output_type": "execute_result"
    }
   ],
   "source": [
    "data[\"number_courses\"].unique()"
   ]
  },
  {
   "cell_type": "code",
   "execution_count": 52,
   "id": "5650043b",
   "metadata": {},
   "outputs": [
    {
     "data": {
      "text/plain": [
       "array([4.508, 0.096, 3.133, 7.909, 7.811, 3.211, 6.063, 3.413, 4.41 ,\n",
       "       6.173, 7.353, 0.423, 4.218, 4.274, 2.908, 4.26 , 5.719, 6.08 ,\n",
       "       7.711, 3.977, 4.733, 6.126, 2.051, 4.875, 3.635, 1.407, 0.508,\n",
       "       4.378, 0.156, 1.299, 3.864, 1.923, 0.932, 6.594, 4.083, 7.543,\n",
       "       2.966, 7.283, 6.533, 7.775, 0.14 , 2.754, 3.591, 1.557, 1.954,\n",
       "       2.061, 3.797, 4.779, 5.635, 3.913, 6.703, 4.13 , 0.771, 6.049,\n",
       "       7.591, 2.913, 7.641, 7.649, 6.198, 7.468, 0.376, 2.438, 3.606,\n",
       "       4.869, 0.13 , 2.142, 5.473, 0.55 , 1.395, 3.948, 3.736, 2.518,\n",
       "       4.633, 1.629, 6.954, 0.803, 6.379, 5.985, 7.451, 0.805, 7.957,\n",
       "       2.262, 7.41 , 3.197, 1.982, 6.201, 4.067, 1.033, 1.803, 6.376,\n",
       "       4.182, 2.73 , 5.027, 6.471, 3.919, 3.561, 0.301, 7.163, 0.309,\n",
       "       6.335])"
      ]
     },
     "execution_count": 52,
     "metadata": {},
     "output_type": "execute_result"
    }
   ],
   "source": [
    "data[\"time_study\"].unique()"
   ]
  },
  {
   "cell_type": "code",
   "execution_count": 53,
   "id": "4944783b",
   "metadata": {},
   "outputs": [
    {
     "data": {
      "text/plain": [
       "5.609"
      ]
     },
     "execution_count": 53,
     "metadata": {},
     "output_type": "execute_result"
    }
   ],
   "source": [
    "data[\"Marks\"].unique().min()"
   ]
  },
  {
   "cell_type": "code",
   "execution_count": 54,
   "id": "db11a7a0",
   "metadata": {},
   "outputs": [],
   "source": [
    "from sklearn.impute import SimpleImputer\n",
    "from sklearn.preprocessing import StandardScaler\n",
    "from sklearn.preprocessing import OrdinalEncoder\n",
    "\n",
    "from sklearn.pipeline import Pipeline\n",
    "from sklearn.compose import ColumnTransformer"
   ]
  },
  {
   "cell_type": "code",
   "execution_count": 55,
   "id": "704e6cf0",
   "metadata": {},
   "outputs": [],
   "source": [
    "num_pipeline = Pipeline(\n",
    "steps=[\n",
    "    (\"imputer\",SimpleImputer()),\n",
    "    (\"Scaler\",StandardScaler())\n",
    "]\n",
    "\n",
    ")"
   ]
  },
  {
   "cell_type": "code",
   "execution_count": 56,
   "id": "528f13e8",
   "metadata": {},
   "outputs": [],
   "source": [
    "cat_pipeline = Pipeline(\n",
    "steps=[\n",
    "    (\"imputer\",SimpleImputer()),\n",
    "    (\"ordinalencoder\",OrdinalEncoder())\n",
    "]\n",
    ")"
   ]
  },
  {
   "cell_type": "code",
   "execution_count": 57,
   "id": "3cc8dcc3",
   "metadata": {},
   "outputs": [],
   "source": [
    "prepocessor = ColumnTransformer(\n",
    "[\n",
    "    (\"num_pipeline\",num_pipeline,numerical_columns),\n",
    "    (\"cat_pipeline\",cat_pipeline,categorical_column)\n",
    "]\n",
    ")"
   ]
  },
  {
   "cell_type": "code",
   "execution_count": 58,
   "id": "50c6c697",
   "metadata": {},
   "outputs": [],
   "source": [
    "from sklearn.model_selection import train_test_split\n",
    "x_train,x_test,y_train,y_test = train_test_split(x,y,test_size=0.20,random_state=42)"
   ]
  },
  {
   "cell_type": "code",
   "execution_count": 59,
   "id": "b78ce6a5",
   "metadata": {},
   "outputs": [
    {
     "data": {
      "text/html": [
       "<div>\n",
       "<style scoped>\n",
       "    .dataframe tbody tr th:only-of-type {\n",
       "        vertical-align: middle;\n",
       "    }\n",
       "\n",
       "    .dataframe tbody tr th {\n",
       "        vertical-align: top;\n",
       "    }\n",
       "\n",
       "    .dataframe thead th {\n",
       "        text-align: right;\n",
       "    }\n",
       "</style>\n",
       "<table border=\"1\" class=\"dataframe\">\n",
       "  <thead>\n",
       "    <tr style=\"text-align: right;\">\n",
       "      <th></th>\n",
       "      <th>number_courses</th>\n",
       "      <th>time_study</th>\n",
       "    </tr>\n",
       "  </thead>\n",
       "  <tbody>\n",
       "    <tr>\n",
       "      <th>55</th>\n",
       "      <td>7</td>\n",
       "      <td>2.913</td>\n",
       "    </tr>\n",
       "    <tr>\n",
       "      <th>88</th>\n",
       "      <td>5</td>\n",
       "      <td>1.803</td>\n",
       "    </tr>\n",
       "    <tr>\n",
       "      <th>26</th>\n",
       "      <td>7</td>\n",
       "      <td>0.508</td>\n",
       "    </tr>\n",
       "    <tr>\n",
       "      <th>42</th>\n",
       "      <td>6</td>\n",
       "      <td>3.591</td>\n",
       "    </tr>\n",
       "    <tr>\n",
       "      <th>69</th>\n",
       "      <td>6</td>\n",
       "      <td>3.948</td>\n",
       "    </tr>\n",
       "    <tr>\n",
       "      <th>...</th>\n",
       "      <td>...</td>\n",
       "      <td>...</td>\n",
       "    </tr>\n",
       "    <tr>\n",
       "      <th>60</th>\n",
       "      <td>6</td>\n",
       "      <td>0.376</td>\n",
       "    </tr>\n",
       "    <tr>\n",
       "      <th>71</th>\n",
       "      <td>5</td>\n",
       "      <td>2.518</td>\n",
       "    </tr>\n",
       "    <tr>\n",
       "      <th>14</th>\n",
       "      <td>3</td>\n",
       "      <td>2.908</td>\n",
       "    </tr>\n",
       "    <tr>\n",
       "      <th>92</th>\n",
       "      <td>4</td>\n",
       "      <td>5.027</td>\n",
       "    </tr>\n",
       "    <tr>\n",
       "      <th>51</th>\n",
       "      <td>6</td>\n",
       "      <td>4.130</td>\n",
       "    </tr>\n",
       "  </tbody>\n",
       "</table>\n",
       "<p>80 rows × 2 columns</p>\n",
       "</div>"
      ],
      "text/plain": [
       "    number_courses  time_study\n",
       "55               7       2.913\n",
       "88               5       1.803\n",
       "26               7       0.508\n",
       "42               6       3.591\n",
       "69               6       3.948\n",
       "..             ...         ...\n",
       "60               6       0.376\n",
       "71               5       2.518\n",
       "14               3       2.908\n",
       "92               4       5.027\n",
       "51               6       4.130\n",
       "\n",
       "[80 rows x 2 columns]"
      ]
     },
     "execution_count": 59,
     "metadata": {},
     "output_type": "execute_result"
    }
   ],
   "source": [
    "x_train"
   ]
  },
  {
   "cell_type": "code",
   "execution_count": 60,
   "id": "15173157",
   "metadata": {},
   "outputs": [
    {
     "data": {
      "text/html": [
       "<div>\n",
       "<style scoped>\n",
       "    .dataframe tbody tr th:only-of-type {\n",
       "        vertical-align: middle;\n",
       "    }\n",
       "\n",
       "    .dataframe tbody tr th {\n",
       "        vertical-align: top;\n",
       "    }\n",
       "\n",
       "    .dataframe thead th {\n",
       "        text-align: right;\n",
       "    }\n",
       "</style>\n",
       "<table border=\"1\" class=\"dataframe\">\n",
       "  <thead>\n",
       "    <tr style=\"text-align: right;\">\n",
       "      <th></th>\n",
       "      <th>Marks</th>\n",
       "    </tr>\n",
       "  </thead>\n",
       "  <tbody>\n",
       "    <tr>\n",
       "      <th>55</th>\n",
       "      <td>18.238</td>\n",
       "    </tr>\n",
       "    <tr>\n",
       "      <th>88</th>\n",
       "      <td>11.253</td>\n",
       "    </tr>\n",
       "    <tr>\n",
       "      <th>26</th>\n",
       "      <td>12.647</td>\n",
       "    </tr>\n",
       "    <tr>\n",
       "      <th>42</th>\n",
       "      <td>19.771</td>\n",
       "    </tr>\n",
       "    <tr>\n",
       "      <th>69</th>\n",
       "      <td>21.400</td>\n",
       "    </tr>\n",
       "    <tr>\n",
       "      <th>...</th>\n",
       "      <td>...</td>\n",
       "    </tr>\n",
       "    <tr>\n",
       "      <th>60</th>\n",
       "      <td>10.522</td>\n",
       "    </tr>\n",
       "    <tr>\n",
       "      <th>71</th>\n",
       "      <td>13.416</td>\n",
       "    </tr>\n",
       "    <tr>\n",
       "      <th>14</th>\n",
       "      <td>11.397</td>\n",
       "    </tr>\n",
       "    <tr>\n",
       "      <th>92</th>\n",
       "      <td>23.916</td>\n",
       "    </tr>\n",
       "    <tr>\n",
       "      <th>51</th>\n",
       "      <td>22.184</td>\n",
       "    </tr>\n",
       "  </tbody>\n",
       "</table>\n",
       "<p>80 rows × 1 columns</p>\n",
       "</div>"
      ],
      "text/plain": [
       "     Marks\n",
       "55  18.238\n",
       "88  11.253\n",
       "26  12.647\n",
       "42  19.771\n",
       "69  21.400\n",
       "..     ...\n",
       "60  10.522\n",
       "71  13.416\n",
       "14  11.397\n",
       "92  23.916\n",
       "51  22.184\n",
       "\n",
       "[80 rows x 1 columns]"
      ]
     },
     "execution_count": 60,
     "metadata": {},
     "output_type": "execute_result"
    }
   ],
   "source": [
    "y_train"
   ]
  },
  {
   "cell_type": "code",
   "execution_count": 61,
   "id": "c2627c42",
   "metadata": {},
   "outputs": [
    {
     "data": {
      "text/plain": [
       "array([[ 0.97226573, -0.41235382],\n",
       "       [-0.14688907, -0.88339102],\n",
       "       [ 0.97226573, -1.43293443],\n",
       "       [ 0.41268833, -0.1246392 ],\n",
       "       [ 0.41268833,  0.02685655],\n",
       "       [-0.70646647,  0.15925619],\n",
       "       [-0.70646647, -1.58909811],\n",
       "       [-1.26604386, -1.5207765 ],\n",
       "       [-1.26604386,  0.97105274],\n",
       "       [-1.26604386,  0.31754167],\n",
       "       [ 0.97226573, -1.46900484],\n",
       "       [-0.70646647,  0.37949791],\n",
       "       [ 1.53184313,  0.98293476],\n",
       "       [-0.14688907, -1.58230839],\n",
       "       [ 1.53184313,  1.09751138],\n",
       "       [ 0.41268833, -0.28589518],\n",
       "       [-0.70646647,  0.67400225],\n",
       "       [ 0.41268833, -0.73953371],\n",
       "       [-1.26604386,  1.55242299],\n",
       "       [-0.14688907,  0.77839428],\n",
       "       [-0.14688907,  0.01200402],\n",
       "       [-1.26604386,  0.08414486],\n",
       "       [-0.14688907, -0.2001749 ],\n",
       "       [ 0.41268833, -0.13736994],\n",
       "       [ 1.53184313,  0.20933042],\n",
       "       [ 1.53184313,  0.03916292],\n",
       "       [ 1.53184313, -0.68861077],\n",
       "       [-1.26604386, -1.05143673],\n",
       "       [ 0.41268833, -0.11827383],\n",
       "       [-1.26604386,  0.1651972 ],\n",
       "       [-0.70646647, -0.10596746],\n",
       "       [ 0.41268833,  1.70773795],\n",
       "       [ 1.53184313,  0.93158746],\n",
       "       [ 0.97226573,  1.12382157],\n",
       "       [-0.70646647,  0.22290987],\n",
       "       [ 0.97226573,  1.51338206],\n",
       "       [-1.26604386,  0.92437338],\n",
       "       [ 0.97226573, -1.59334169],\n",
       "       [-0.70646647, -0.38986285],\n",
       "       [ 0.97226573,  1.05719738],\n",
       "       [ 1.53184313,  1.59401005],\n",
       "       [-1.26604386,  1.03979871],\n",
       "       [ 1.53184313,  1.57279216],\n",
       "       [-0.14688907, -0.98778305],\n",
       "       [ 0.41268833,  1.1959624 ],\n",
       "       [-1.26604386, -1.4151114 ],\n",
       "       [-0.70646647, -0.03722149],\n",
       "       [-0.70646647, -1.05652902],\n",
       "       [-0.70646647, -0.61392379],\n",
       "       [-0.70646647,  1.39116701],\n",
       "       [-1.26604386, -1.30690015],\n",
       "       [ 0.41268833, -0.47982672],\n",
       "       [-1.26604386,  0.98166169],\n",
       "       [-1.26604386,  0.74274822],\n",
       "       [ 0.97226573, -1.51738164],\n",
       "       [ 0.97226573,  1.59740492],\n",
       "       [-1.26604386, -1.30774886],\n",
       "       [ 1.53184313, -1.2530067 ],\n",
       "       [ 1.53184313,  0.01455017],\n",
       "       [ 1.53184313,  1.52059615],\n",
       "       [-1.26604386,  0.41769012],\n",
       "       [ 1.53184313, -0.80743097],\n",
       "       [ 0.41268833,  1.44208995],\n",
       "       [-0.70646647, -1.09726737],\n",
       "       [-0.70646647, -1.60776986],\n",
       "       [-0.70646647, -1.32132831],\n",
       "       [ 0.41268833,  0.95110792],\n",
       "       [-0.70646647, -0.31899509],\n",
       "       [ 0.97226573,  0.42023627],\n",
       "       [-1.26604386, -1.21014656],\n",
       "       [ 1.53184313, -0.4900113 ],\n",
       "       [-0.70646647,  1.30247622],\n",
       "       [ 0.97226573,  0.07735513],\n",
       "       [-0.70646647,  1.49598339],\n",
       "       [-0.70646647,  0.35997745],\n",
       "       [ 0.41268833, -1.48894966],\n",
       "       [-0.14688907, -0.57997517],\n",
       "       [-1.26604386, -0.41447561],\n",
       "       [-0.70646647,  0.48473866],\n",
       "       [ 0.41268833,  0.10408967]])"
      ]
     },
     "execution_count": 61,
     "metadata": {},
     "output_type": "execute_result"
    }
   ],
   "source": [
    "prepocessor.fit_transform(x_train)"
   ]
  },
  {
   "cell_type": "code",
   "execution_count": 62,
   "id": "869d13d3",
   "metadata": {},
   "outputs": [
    {
     "data": {
      "text/plain": [
       "array([[-0.14688907, -0.29183619],\n",
       "       [ 0.97226573,  0.91843237],\n",
       "       [-0.70646647, -0.06310732],\n",
       "       [-1.26604386, -0.7739067 ],\n",
       "       [-0.70646647, -0.81931299],\n",
       "       [ 0.41268833,  1.650874  ],\n",
       "       [-0.14688907, -0.77815028],\n",
       "       [ 0.97226573,  1.72810713],\n",
       "       [-1.26604386,  1.471795  ],\n",
       "       [-1.26604386,  0.26449694],\n",
       "       [ 0.41268833,  1.6237151 ],\n",
       "       [ 1.53184313, -0.00878951],\n",
       "       [-1.26604386, -0.95722929],\n",
       "       [ 0.41268833,  1.14970739],\n",
       "       [ 0.97226573,  0.12615628],\n",
       "       [ 1.53184313,  1.66615089],\n",
       "       [-0.14688907,  1.05847046],\n",
       "       [ 1.53184313,  0.89127347],\n",
       "       [ 0.97226573,  0.14143316],\n",
       "       [-1.26604386, -0.83246808]])"
      ]
     },
     "execution_count": 62,
     "metadata": {},
     "output_type": "execute_result"
    }
   ],
   "source": [
    "prepocessor.transform(x_test)"
   ]
  },
  {
   "cell_type": "code",
   "execution_count": 63,
   "id": "dc10446d",
   "metadata": {},
   "outputs": [
    {
     "data": {
      "text/plain": [
       "array(['num_pipeline__number_courses', 'num_pipeline__time_study'],\n",
       "      dtype=object)"
      ]
     },
     "execution_count": 63,
     "metadata": {},
     "output_type": "execute_result"
    }
   ],
   "source": [
    "prepocessor.get_feature_names_out()"
   ]
  },
  {
   "cell_type": "code",
   "execution_count": 64,
   "id": "0994a3ca",
   "metadata": {},
   "outputs": [],
   "source": [
    "x_train = pd.DataFrame(prepocessor.fit_transform(x_train),columns=prepocessor.get_feature_names_out())"
   ]
  },
  {
   "cell_type": "code",
   "execution_count": 65,
   "id": "f8141128",
   "metadata": {},
   "outputs": [
    {
     "data": {
      "text/html": [
       "<div>\n",
       "<style scoped>\n",
       "    .dataframe tbody tr th:only-of-type {\n",
       "        vertical-align: middle;\n",
       "    }\n",
       "\n",
       "    .dataframe tbody tr th {\n",
       "        vertical-align: top;\n",
       "    }\n",
       "\n",
       "    .dataframe thead th {\n",
       "        text-align: right;\n",
       "    }\n",
       "</style>\n",
       "<table border=\"1\" class=\"dataframe\">\n",
       "  <thead>\n",
       "    <tr style=\"text-align: right;\">\n",
       "      <th></th>\n",
       "      <th>num_pipeline__number_courses</th>\n",
       "      <th>num_pipeline__time_study</th>\n",
       "    </tr>\n",
       "  </thead>\n",
       "  <tbody>\n",
       "    <tr>\n",
       "      <th>0</th>\n",
       "      <td>0.972266</td>\n",
       "      <td>-0.412354</td>\n",
       "    </tr>\n",
       "    <tr>\n",
       "      <th>1</th>\n",
       "      <td>-0.146889</td>\n",
       "      <td>-0.883391</td>\n",
       "    </tr>\n",
       "    <tr>\n",
       "      <th>2</th>\n",
       "      <td>0.972266</td>\n",
       "      <td>-1.432934</td>\n",
       "    </tr>\n",
       "    <tr>\n",
       "      <th>3</th>\n",
       "      <td>0.412688</td>\n",
       "      <td>-0.124639</td>\n",
       "    </tr>\n",
       "    <tr>\n",
       "      <th>4</th>\n",
       "      <td>0.412688</td>\n",
       "      <td>0.026857</td>\n",
       "    </tr>\n",
       "    <tr>\n",
       "      <th>...</th>\n",
       "      <td>...</td>\n",
       "      <td>...</td>\n",
       "    </tr>\n",
       "    <tr>\n",
       "      <th>75</th>\n",
       "      <td>0.412688</td>\n",
       "      <td>-1.488950</td>\n",
       "    </tr>\n",
       "    <tr>\n",
       "      <th>76</th>\n",
       "      <td>-0.146889</td>\n",
       "      <td>-0.579975</td>\n",
       "    </tr>\n",
       "    <tr>\n",
       "      <th>77</th>\n",
       "      <td>-1.266044</td>\n",
       "      <td>-0.414476</td>\n",
       "    </tr>\n",
       "    <tr>\n",
       "      <th>78</th>\n",
       "      <td>-0.706466</td>\n",
       "      <td>0.484739</td>\n",
       "    </tr>\n",
       "    <tr>\n",
       "      <th>79</th>\n",
       "      <td>0.412688</td>\n",
       "      <td>0.104090</td>\n",
       "    </tr>\n",
       "  </tbody>\n",
       "</table>\n",
       "<p>80 rows × 2 columns</p>\n",
       "</div>"
      ],
      "text/plain": [
       "    num_pipeline__number_courses  num_pipeline__time_study\n",
       "0                       0.972266                 -0.412354\n",
       "1                      -0.146889                 -0.883391\n",
       "2                       0.972266                 -1.432934\n",
       "3                       0.412688                 -0.124639\n",
       "4                       0.412688                  0.026857\n",
       "..                           ...                       ...\n",
       "75                      0.412688                 -1.488950\n",
       "76                     -0.146889                 -0.579975\n",
       "77                     -1.266044                 -0.414476\n",
       "78                     -0.706466                  0.484739\n",
       "79                      0.412688                  0.104090\n",
       "\n",
       "[80 rows x 2 columns]"
      ]
     },
     "execution_count": 65,
     "metadata": {},
     "output_type": "execute_result"
    }
   ],
   "source": [
    "x_train"
   ]
  },
  {
   "cell_type": "code",
   "execution_count": 66,
   "id": "34e901d0",
   "metadata": {},
   "outputs": [],
   "source": [
    "x_test = pd.DataFrame(prepocessor.fit_transform(x_test),columns=prepocessor.get_feature_names_out())"
   ]
  },
  {
   "cell_type": "code",
   "execution_count": 67,
   "id": "6dd53cdf",
   "metadata": {},
   "outputs": [
    {
     "data": {
      "text/html": [
       "<div>\n",
       "<style scoped>\n",
       "    .dataframe tbody tr th:only-of-type {\n",
       "        vertical-align: middle;\n",
       "    }\n",
       "\n",
       "    .dataframe tbody tr th {\n",
       "        vertical-align: top;\n",
       "    }\n",
       "\n",
       "    .dataframe thead th {\n",
       "        text-align: right;\n",
       "    }\n",
       "</style>\n",
       "<table border=\"1\" class=\"dataframe\">\n",
       "  <thead>\n",
       "    <tr style=\"text-align: right;\">\n",
       "      <th></th>\n",
       "      <th>num_pipeline__number_courses</th>\n",
       "      <th>num_pipeline__time_study</th>\n",
       "    </tr>\n",
       "  </thead>\n",
       "  <tbody>\n",
       "    <tr>\n",
       "      <th>0</th>\n",
       "      <td>-0.222222</td>\n",
       "      <td>-0.743878</td>\n",
       "    </tr>\n",
       "    <tr>\n",
       "      <th>1</th>\n",
       "      <td>0.888889</td>\n",
       "      <td>0.542021</td>\n",
       "    </tr>\n",
       "    <tr>\n",
       "      <th>2</th>\n",
       "      <td>-0.777778</td>\n",
       "      <td>-0.500856</td>\n",
       "    </tr>\n",
       "    <tr>\n",
       "      <th>3</th>\n",
       "      <td>-1.333333</td>\n",
       "      <td>-1.256073</td>\n",
       "    </tr>\n",
       "    <tr>\n",
       "      <th>4</th>\n",
       "      <td>-0.777778</td>\n",
       "      <td>-1.304316</td>\n",
       "    </tr>\n",
       "    <tr>\n",
       "      <th>5</th>\n",
       "      <td>0.333333</td>\n",
       "      <td>1.320232</td>\n",
       "    </tr>\n",
       "    <tr>\n",
       "      <th>6</th>\n",
       "      <td>-0.222222</td>\n",
       "      <td>-1.260582</td>\n",
       "    </tr>\n",
       "    <tr>\n",
       "      <th>7</th>\n",
       "      <td>0.888889</td>\n",
       "      <td>1.402292</td>\n",
       "    </tr>\n",
       "    <tr>\n",
       "      <th>8</th>\n",
       "      <td>-1.333333</td>\n",
       "      <td>1.129963</td>\n",
       "    </tr>\n",
       "    <tr>\n",
       "      <th>9</th>\n",
       "      <td>-1.333333</td>\n",
       "      <td>-0.152779</td>\n",
       "    </tr>\n",
       "    <tr>\n",
       "      <th>10</th>\n",
       "      <td>0.333333</td>\n",
       "      <td>1.291376</td>\n",
       "    </tr>\n",
       "    <tr>\n",
       "      <th>11</th>\n",
       "      <td>1.444444</td>\n",
       "      <td>-0.443143</td>\n",
       "    </tr>\n",
       "    <tr>\n",
       "      <th>12</th>\n",
       "      <td>-1.333333</td>\n",
       "      <td>-1.450851</td>\n",
       "    </tr>\n",
       "    <tr>\n",
       "      <th>13</th>\n",
       "      <td>0.333333</td>\n",
       "      <td>0.787748</td>\n",
       "    </tr>\n",
       "    <tr>\n",
       "      <th>14</th>\n",
       "      <td>0.888889</td>\n",
       "      <td>-0.299765</td>\n",
       "    </tr>\n",
       "    <tr>\n",
       "      <th>15</th>\n",
       "      <td>1.444444</td>\n",
       "      <td>1.336464</td>\n",
       "    </tr>\n",
       "    <tr>\n",
       "      <th>16</th>\n",
       "      <td>-0.222222</td>\n",
       "      <td>0.690810</td>\n",
       "    </tr>\n",
       "    <tr>\n",
       "      <th>17</th>\n",
       "      <td>1.444444</td>\n",
       "      <td>0.513164</td>\n",
       "    </tr>\n",
       "    <tr>\n",
       "      <th>18</th>\n",
       "      <td>0.888889</td>\n",
       "      <td>-0.283533</td>\n",
       "    </tr>\n",
       "    <tr>\n",
       "      <th>19</th>\n",
       "      <td>-1.333333</td>\n",
       "      <td>-1.318294</td>\n",
       "    </tr>\n",
       "  </tbody>\n",
       "</table>\n",
       "</div>"
      ],
      "text/plain": [
       "    num_pipeline__number_courses  num_pipeline__time_study\n",
       "0                      -0.222222                 -0.743878\n",
       "1                       0.888889                  0.542021\n",
       "2                      -0.777778                 -0.500856\n",
       "3                      -1.333333                 -1.256073\n",
       "4                      -0.777778                 -1.304316\n",
       "5                       0.333333                  1.320232\n",
       "6                      -0.222222                 -1.260582\n",
       "7                       0.888889                  1.402292\n",
       "8                      -1.333333                  1.129963\n",
       "9                      -1.333333                 -0.152779\n",
       "10                      0.333333                  1.291376\n",
       "11                      1.444444                 -0.443143\n",
       "12                     -1.333333                 -1.450851\n",
       "13                      0.333333                  0.787748\n",
       "14                      0.888889                 -0.299765\n",
       "15                      1.444444                  1.336464\n",
       "16                     -0.222222                  0.690810\n",
       "17                      1.444444                  0.513164\n",
       "18                      0.888889                 -0.283533\n",
       "19                     -1.333333                 -1.318294"
      ]
     },
     "execution_count": 67,
     "metadata": {},
     "output_type": "execute_result"
    }
   ],
   "source": [
    "x_test"
   ]
  },
  {
   "cell_type": "code",
   "execution_count": 68,
   "id": "ef85d457",
   "metadata": {},
   "outputs": [],
   "source": [
    "from sklearn.linear_model import LinearRegression,Ridge,ElasticNet,Lasso\n",
    "from sklearn.metrics import r2_score,mean_absolute_error,mean_squared_error"
   ]
  },
  {
   "cell_type": "code",
   "execution_count": 69,
   "id": "dc72bdf2",
   "metadata": {},
   "outputs": [],
   "source": [
    "def evaluate_model(true,prediction):\n",
    "    r2_square = r2_score(true,prediction),\n",
    "    mae = mean_absolute_error(true,prediction),\n",
    "    mse = mean_squared_error(true,prediction)\n",
    "    return r2_square,mae,mse"
   ]
  },
  {
   "cell_type": "code",
   "execution_count": 70,
   "id": "8584aebc",
   "metadata": {},
   "outputs": [],
   "source": [
    "models = {\n",
    "    \"LinearRegression\":LinearRegression(),\n",
    "    \"Ridge\":Ridge(),\n",
    "    \"ElasticNet\":ElasticNet(),\n",
    "    \"Lasso\":Lasso()\n",
    "}"
   ]
  },
  {
   "cell_type": "code",
   "execution_count": 71,
   "id": "cea3a504",
   "metadata": {},
   "outputs": [
    {
     "data": {
      "text/plain": [
       "dict_keys(['LinearRegression', 'Ridge', 'ElasticNet', 'Lasso'])"
      ]
     },
     "execution_count": 71,
     "metadata": {},
     "output_type": "execute_result"
    }
   ],
   "source": [
    "models.keys()"
   ]
  },
  {
   "cell_type": "code",
   "execution_count": 72,
   "id": "d9b0957b",
   "metadata": {},
   "outputs": [
    {
     "data": {
      "text/plain": [
       "[LinearRegression(), Ridge(), ElasticNet(), Lasso()]"
      ]
     },
     "execution_count": 72,
     "metadata": {},
     "output_type": "execute_result"
    }
   ],
   "source": [
    "list(models.values())"
   ]
  },
  {
   "cell_type": "code",
   "execution_count": 73,
   "id": "40d5555e",
   "metadata": {},
   "outputs": [
    {
     "data": {
      "text/plain": [
       "['LinearRegression', 'Ridge', 'ElasticNet', 'Lasso']"
      ]
     },
     "execution_count": 73,
     "metadata": {},
     "output_type": "execute_result"
    }
   ],
   "source": [
    "list(models)"
   ]
  },
  {
   "cell_type": "code",
   "execution_count": 74,
   "id": "42d6ea1f",
   "metadata": {},
   "outputs": [
    {
     "name": "stdout",
     "output_type": "stream",
     "text": [
      "LinearRegression\n",
      "...Our Result...\n",
      "r2_square : (0.8447348792728553,)\n",
      "mean_absolute_error : (5.491200000000001,)\n",
      "mean_squared_error : 40.826232977079485\n",
      "-----------------------------------\n",
      "\n",
      "\n",
      "Ridge\n",
      "...Our Result...\n",
      "r2_square : (0.8422897290410032,)\n",
      "mean_absolute_error : (5.4912,)\n",
      "mean_squared_error : 41.46917372618039\n",
      "-----------------------------------\n",
      "\n",
      "\n",
      "ElasticNet\n",
      "...Our Result...\n",
      "r2_square : (0.6833506877753004,)\n",
      "mean_absolute_error : (6.406631115946484,)\n",
      "mean_squared_error : 83.26144682317859\n",
      "-----------------------------------\n",
      "\n",
      "\n",
      "Lasso\n",
      "...Our Result...\n",
      "r2_square : (0.820952482032379,)\n",
      "mean_absolute_error : (5.4912,)\n",
      "mean_squared_error : 47.079702435937705\n",
      "-----------------------------------\n",
      "\n",
      "\n"
     ]
    }
   ],
   "source": [
    "for i in range(len(list(models))):\n",
    "    model = list(models.values())[i]\n",
    "    model.fit(x_train,y_train)\n",
    "    \n",
    "    y_pred = model.predict(x_test)\n",
    "    r2_square,mae,mse=evaluate_model(y_test,y_pred)\n",
    "    \n",
    "    print(list(models.keys())[i])\n",
    "    print(\"...Our Result...\")\n",
    "    print(\"r2_square :\",r2_square)\n",
    "    print(\"mean_absolute_error :\",mae)\n",
    "    print(\"mean_squared_error :\",mse)\n",
    "    print(\"-\"*35)\n",
    "    print(\"\\n\")"
   ]
  },
  {
   "cell_type": "code",
   "execution_count": null,
   "id": "ba29354f",
   "metadata": {},
   "outputs": [],
   "source": []
  }
 ],
 "metadata": {
  "kernelspec": {
   "display_name": "Python 3 (ipykernel)",
   "language": "python",
   "name": "python3"
  },
  "language_info": {
   "codemirror_mode": {
    "name": "ipython",
    "version": 3
   },
   "file_extension": ".py",
   "mimetype": "text/x-python",
   "name": "python",
   "nbconvert_exporter": "python",
   "pygments_lexer": "ipython3",
   "version": "3.11.5"
  }
 },
 "nbformat": 4,
 "nbformat_minor": 5
}
